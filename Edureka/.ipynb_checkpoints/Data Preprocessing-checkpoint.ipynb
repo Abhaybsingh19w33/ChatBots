{
 "cells": [
  {
   "cell_type": "code",
   "execution_count": 1,
   "id": "131bbeae",
   "metadata": {},
   "outputs": [],
   "source": [
    "from sklearn.datasets import fetch_20newsgroups"
   ]
  },
  {
   "cell_type": "code",
   "execution_count": null,
   "id": "12390044",
   "metadata": {},
   "outputs": [],
   "source": [
    "text_data = fetch_20newsgroups()"
   ]
  },
  {
   "cell_type": "code",
   "execution_count": null,
   "id": "83653c42",
   "metadata": {},
   "outputs": [],
   "source": [
    "type(text_data)"
   ]
  }
 ],
 "metadata": {
  "kernelspec": {
   "display_name": "Python 3 (ipykernel)",
   "language": "python",
   "name": "python3"
  },
  "language_info": {
   "codemirror_mode": {
    "name": "ipython",
    "version": 3
   },
   "file_extension": ".py",
   "mimetype": "text/x-python",
   "name": "python",
   "nbconvert_exporter": "python",
   "pygments_lexer": "ipython3",
   "version": "3.9.7"
  }
 },
 "nbformat": 4,
 "nbformat_minor": 5
}
